{
 "cells": [
  {
   "cell_type": "markdown",
   "metadata": {
    "id": "Ab6tQ8XLwqzG"
   },
   "source": [
    "#Data Bootcamp Selection Challenge\n",
    "#####In this challenge you will calculate various KPIs using a car based dataset, each question will have a single correct answer that will be evaluated through automated unit testing. Use the dictionary provided below to fill in your answers, each question will state the format required for the answer and examples are provided so you know how properly fill the answer dictionary.\n",
    "#####**Use the dataset \"as is\" and do not perform any data cleaning or modify it in any way, doing so could make you answer all your questions incorrectly. Do not modify the structure of the answer dictionary.**\n",
    "\n",
    "#####When you finish this challenge please upload both your notebook and your answer dictionary in pickle format to a public github repository submit their URL to the [google form](https://forms.gle/wWysZEMkoZsjB11Y7) that was provided to you.\n",
    "\n",
    "##### Some unit tests are provided at the end of this notebook to help you verify your answers are in the correct format, however they will not test everything.\n",
    "\n",
    "\n",
    "\n"
   ]
  },
  {
   "cell_type": "code",
   "execution_count": 1,
   "metadata": {
    "id": "1kj3oTmRvWXi"
   },
   "outputs": [],
   "source": [
    "#Use this dictionary to store your answers in the correct format in the cells below , do not modify the keys\n",
    "answer_dict =  {\"Q1\" : None,\n",
    "                \"Q2\" : None,\n",
    "                \"Q3\" : None,\n",
    "                \"Q4\" : None,\n",
    "                \"Q5\" : None,\n",
    "                \"Q6\" : None,\n",
    "                \"Q7\" : None}"
   ]
  },
  {
   "cell_type": "markdown",
   "metadata": {
    "id": "Z0pZ4Vlx3VZy"
   },
   "source": [
    "##Reading the dataset\n",
    "#####An example is provided to read the dataset using [pandas](https://pandas.pydata.org/), while we reccommend using pandas you may use any python library to solve this challenge."
   ]
  },
  {
   "cell_type": "code",
   "execution_count": 2,
   "metadata": {
    "id": "7U3UNKSj3oxa"
   },
   "outputs": [],
   "source": [
    "import warnings\n",
    "warnings.filterwarnings(\"ignore\")\n",
    "import pandas as pd\n",
    "import numpy as np\n",
    "url = \"https://storage.googleapis.com/deb-evaluation-materials/vehicles.csv\"\n",
    "df = pd.read_csv(url)"
   ]
  },
  {
   "cell_type": "code",
   "execution_count": 3,
   "metadata": {
    "colab": {
     "base_uri": "https://localhost:8080/",
     "height": 511
    },
    "id": "J10uW58Qv2B_",
    "outputId": "fb75f195-8ff5-4084-dbf1-fbd9ab96b6c0"
   },
   "outputs": [
    {
     "data": {
      "text/html": [
       "<div>\n",
       "<style scoped>\n",
       "    .dataframe tbody tr th:only-of-type {\n",
       "        vertical-align: middle;\n",
       "    }\n",
       "\n",
       "    .dataframe tbody tr th {\n",
       "        vertical-align: top;\n",
       "    }\n",
       "\n",
       "    .dataframe thead th {\n",
       "        text-align: right;\n",
       "    }\n",
       "</style>\n",
       "<table border=\"1\" class=\"dataframe\">\n",
       "  <thead>\n",
       "    <tr style=\"text-align: right;\">\n",
       "      <th></th>\n",
       "      <th>Make</th>\n",
       "      <th>Model</th>\n",
       "      <th>Year</th>\n",
       "      <th>Engine Displacement</th>\n",
       "      <th>Cylinders</th>\n",
       "      <th>Transmission</th>\n",
       "      <th>Drivetrain</th>\n",
       "      <th>Vehicle Class</th>\n",
       "      <th>Fuel Type</th>\n",
       "      <th>Fuel Barrels/Year</th>\n",
       "      <th>City MPG</th>\n",
       "      <th>Highway MPG</th>\n",
       "      <th>Combined MPG</th>\n",
       "      <th>CO2 Emission Grams/Mile</th>\n",
       "      <th>Fuel Cost/Year</th>\n",
       "    </tr>\n",
       "  </thead>\n",
       "  <tbody>\n",
       "    <tr>\n",
       "      <th>0</th>\n",
       "      <td>AM General</td>\n",
       "      <td>DJ Po Vehicle 2WD</td>\n",
       "      <td>1984</td>\n",
       "      <td>2.5</td>\n",
       "      <td>4.0</td>\n",
       "      <td>Automatic 3-spd</td>\n",
       "      <td>2-Wheel Drive</td>\n",
       "      <td>Special Purpose Vehicle 2WD</td>\n",
       "      <td>Regular</td>\n",
       "      <td>19.388824</td>\n",
       "      <td>18</td>\n",
       "      <td>17</td>\n",
       "      <td>17</td>\n",
       "      <td>522.764706</td>\n",
       "      <td>1950</td>\n",
       "    </tr>\n",
       "    <tr>\n",
       "      <th>1</th>\n",
       "      <td>AM General</td>\n",
       "      <td>FJ8c Post Office</td>\n",
       "      <td>1984</td>\n",
       "      <td>4.2</td>\n",
       "      <td>6.0</td>\n",
       "      <td>Automatic 3-spd</td>\n",
       "      <td>2-Wheel Drive</td>\n",
       "      <td>Special Purpose Vehicle 2WD</td>\n",
       "      <td>Regular</td>\n",
       "      <td>25.354615</td>\n",
       "      <td>13</td>\n",
       "      <td>13</td>\n",
       "      <td>13</td>\n",
       "      <td>683.615385</td>\n",
       "      <td>2550</td>\n",
       "    </tr>\n",
       "  </tbody>\n",
       "</table>\n",
       "</div>"
      ],
      "text/plain": [
       "         Make              Model  Year  Engine Displacement  Cylinders  \\\n",
       "0  AM General  DJ Po Vehicle 2WD  1984                  2.5        4.0   \n",
       "1  AM General   FJ8c Post Office  1984                  4.2        6.0   \n",
       "\n",
       "      Transmission     Drivetrain                Vehicle Class Fuel Type  \\\n",
       "0  Automatic 3-spd  2-Wheel Drive  Special Purpose Vehicle 2WD   Regular   \n",
       "1  Automatic 3-spd  2-Wheel Drive  Special Purpose Vehicle 2WD   Regular   \n",
       "\n",
       "   Fuel Barrels/Year  City MPG  Highway MPG  Combined MPG  \\\n",
       "0          19.388824        18           17            17   \n",
       "1          25.354615        13           13            13   \n",
       "\n",
       "   CO2 Emission Grams/Mile  Fuel Cost/Year  \n",
       "0               522.764706            1950  \n",
       "1               683.615385            2550  "
      ]
     },
     "execution_count": 3,
     "metadata": {},
     "output_type": "execute_result"
    }
   ],
   "source": [
    "df.head(2)"
   ]
  },
  {
   "cell_type": "code",
   "execution_count": 4,
   "metadata": {
    "colab": {
     "base_uri": "https://localhost:8080/"
    },
    "id": "LutcGEx8v4GY",
    "outputId": "8f78e0e8-9e42-4a14-d63b-8b6b8b0d995b"
   },
   "outputs": [
    {
     "name": "stdout",
     "output_type": "stream",
     "text": [
      "<class 'pandas.core.frame.DataFrame'>\n",
      "RangeIndex: 35952 entries, 0 to 35951\n",
      "Data columns (total 15 columns):\n",
      " #   Column                   Non-Null Count  Dtype  \n",
      "---  ------                   --------------  -----  \n",
      " 0   Make                     35952 non-null  object \n",
      " 1   Model                    35952 non-null  object \n",
      " 2   Year                     35952 non-null  int64  \n",
      " 3   Engine Displacement      35952 non-null  float64\n",
      " 4   Cylinders                35952 non-null  float64\n",
      " 5   Transmission             35952 non-null  object \n",
      " 6   Drivetrain               35952 non-null  object \n",
      " 7   Vehicle Class            35952 non-null  object \n",
      " 8   Fuel Type                35952 non-null  object \n",
      " 9   Fuel Barrels/Year        35952 non-null  float64\n",
      " 10  City MPG                 35952 non-null  int64  \n",
      " 11  Highway MPG              35952 non-null  int64  \n",
      " 12  Combined MPG             35952 non-null  int64  \n",
      " 13  CO2 Emission Grams/Mile  35952 non-null  float64\n",
      " 14  Fuel Cost/Year           35952 non-null  int64  \n",
      "dtypes: float64(4), int64(5), object(6)\n",
      "memory usage: 4.1+ MB\n"
     ]
    }
   ],
   "source": [
    "df.info()"
   ]
  },
  {
   "cell_type": "markdown",
   "metadata": {
    "id": "kLRp8K_wnEJG"
   },
   "source": [
    "##Q1. What is the average CO2 emmission per gram/mile of all Volkswagen cars?\n",
    "\n",
    "##### Format: A floating number\n",
    "##### Example answer:\n",
    " `11.547`"
   ]
  },
  {
   "cell_type": "code",
   "execution_count": 5,
   "metadata": {
    "colab": {
     "base_uri": "https://localhost:8080/"
    },
    "id": "jBGXf7RRnEoV",
    "outputId": "b42cb14f-c116-41c6-aa6d-ee68ec0d98fc"
   },
   "outputs": [
    {
     "name": "stdout",
     "output_type": "stream",
     "text": [
      "Mean CO2 Emission for Volkswagen: 392.742\n"
     ]
    }
   ],
   "source": [
    "########## Q1\n",
    "#Your code here\n",
    "def calculate_mean_emission(df, make):\n",
    "    try:\n",
    "        filtered_df = df[df['Make'] == make]\n",
    "        mean_emission = filtered_df['CO2 Emission Grams/Mile'].mean()\n",
    "        return mean_emission\n",
    "    except KeyError:\n",
    "        raise KeyError(\"Invalid column name: 'Make' or 'CO2 Emission Grams/Mile' not found.\")\n",
    "\n",
    "try:\n",
    "    # Calculate mean CO2 emission for Volkswagen\n",
    "    volkswagen_mean_emission = calculate_mean_emission(df, 'Volkswagen')\n",
    "\n",
    "    answer_dict = {\"Q1\": round(volkswagen_mean_emission, 3)}\n",
    "\n",
    "except Exception as e:\n",
    "    print(\"Error:\", str(e))\n",
    "\n",
    "# Convert the value of 'Q1' from str to float\n",
    "answer_dict[\"Q1\"] = float(answer_dict[\"Q1\"])\n",
    "\n",
    "print(\"Mean CO2 Emission for Volkswagen:\", answer_dict[\"Q1\"])\n",
    "\n",
    "#Example answer:\n",
    "#answer_dict[\"Q1\"] =  11.547"
   ]
  },
  {
   "cell_type": "markdown",
   "metadata": {
    "id": "SPNq7yn74kjd"
   },
   "source": [
    "##Q2. Calculate the top 5 brands(Make) with the most unique models, order your answer in descending order with respect to the number of unique models.\n",
    "##### **NOTE:** Consider only the name of the models and their brand, that is use only the Make and Model columns\n",
    "##### Format: A 5X2 list with each row being the name of the brand followed by the unique number of models, in descending order.\n",
    "#####Hint: You can use the pandas [df.values.tolist()](https://pandas.pydata.org/docs/reference/api/pandas.Series.tolist.html) function to format your answer.\n",
    "\n",
    "##### Example answer:\n",
    "`[[\"Volkswagen\", 1000], [\"Toyota\", 900], [\"Honda\", 800], [\"Subaru\", 700], [\"Ford\", 600]]`"
   ]
  },
  {
   "cell_type": "code",
   "execution_count": 6,
   "metadata": {
    "colab": {
     "base_uri": "https://localhost:8080/"
    },
    "id": "StipyFue4Dx-",
    "outputId": "d811cb80-f639-423f-ba7d-effdb14d70c2"
   },
   "outputs": [
    {
     "name": "stdout",
     "output_type": "stream",
     "text": [
      "[['Mercedes-Benz', 333], ['BMW', 284], ['Chevrolet', 253], ['Ford', 185], ['GMC', 163]]\n"
     ]
    }
   ],
   "source": [
    "########## Q2\n",
    "\n",
    "# Calculate the number of unique models for each car brand and select the top 5 brands with the most unique models.\n",
    "unique_brands = df.groupby('Make')['Model'].nunique().sort_values(ascending=False).nlargest(5).reset_index()\n",
    "\n",
    "# Rename the 'Model' column to 'No_Unique_Models' to indicate the number of unique models for each brand.\n",
    "unique_brands = unique_brands.rename(columns={'Model': 'No_Unique_Models'})\n",
    "\n",
    "# Convert the DataFrame to a list of lists to store the top 5 brands and their corresponding number of unique models.\n",
    "answer_dict[\"Q2\"] = unique_brands.values.tolist()\n",
    "print(answer_dict[\"Q2\"])\n",
    "\n",
    "#Example answer:\n",
    "#answer_dict[\"Q2\"] =  [[\"Volkswagen\", 1000], [\"Toyota\", 900], [\"Honda\", 800], [\"Subaru\", 700], [\"Ford\", 600]]"
   ]
  },
  {
   "cell_type": "markdown",
   "metadata": {
    "id": "EGxv7N15AiLu"
   },
   "source": [
    "##Q3. What are all the different types of fuels in the dataset sorted alphabetically?\n",
    "##### Format: A list of strings sorted alphabetically.\n",
    "##### Example Answer:\n",
    "`['Regular',\n",
    " 'Premium']`"
   ]
  },
  {
   "cell_type": "code",
   "execution_count": 7,
   "metadata": {
    "colab": {
     "base_uri": "https://localhost:8080/"
    },
    "id": "otyDsWpsAjde",
    "outputId": "14653c70-da0d-41e2-9ecc-b117b7528c2c"
   },
   "outputs": [
    {
     "name": "stdout",
     "output_type": "stream",
     "text": [
      "['CNG', 'Diesel', 'Gasoline or E85', 'Gasoline or natural gas', 'Gasoline or propane', 'Midgrade', 'Premium', 'Premium Gas or Electricity', 'Premium and Electricity', 'Premium or E85', 'Regular', 'Regular Gas and Electricity', 'Regular Gas or Electricity']\n"
     ]
    }
   ],
   "source": [
    "########## Q3\n",
    "\n",
    "# Get the unique values of 'Fuel Type'\n",
    "unique_fuel_types = df['Fuel Type'].unique()\n",
    "# Sort the unique fuel types\n",
    "sorted_fuel_types = pd.Series(unique_fuel_types).sort_values()\n",
    "answer_dict[\"Q3\"] = sorted_fuel_types.values.tolist()\n",
    "print(answer_dict[\"Q3\"])\n",
    "\n",
    "#Example answer:\n",
    "#answer_dict[\"Q3\"] =  ['Regular', 'Premium']"
   ]
  },
  {
   "cell_type": "markdown",
   "metadata": {
    "id": "ijpZht03tV5W"
   },
   "source": [
    "##Q4. Show the 9 Toyota cars with the most extreme Fuel Barrels/Year in abosolute terms within all Toyota cars. Show the car Model, Year and their Fuel Barrels/Year in standard deviation units([Z-score](https://fredclavel.org/2019/03/18/basics-standardization-and-the-z-score/)) **sorted** in descending order by their Fuel Barrels/Year in absolute terms first and then by year in descending order **BUT** without modifying the negative values (see example).\n",
    "\n",
    "##### Format: A 9X3 list with each row containing the Model, Year and Fuel Barrels/Year in standard deviations units\n",
    "\n",
    "##### Example answer:\n",
    "```\n",
    "[['DJ Po Vehicle 2WD', 2004, -6.407431084026927],\n",
    " ['FJ8c Post Office', 2003, -6.407431084026927],\n",
    " ['Post Office DJ5 2WD', 2005, -6.391684618442447],\n",
    " ['Sierra 2500 Hd 2WD', 2002, -6.391684618442447],\n",
    " ['Camry CNG', 2012, 2.677633075759575],\n",
    " ['Sierra 1500 4WD', 2005, 2.677633075759575],\n",
    " ['Sierra 1500 4WD', 2001, 2.677633075759575],\n",
    " ['V15 Suburban 4WD', 1988, 2.677633075759575],\n",
    " ['V15 Suburban 4WD', 1987, 2.677633075759575]]\n",
    "```\n",
    "#####Note that while the list is sorted by the Fuel Barrels/Year in absolute terms and in standard deviation units, the values are not modified. If the values are the same the rows are sorted by the year.\n"
   ]
  },
  {
   "cell_type": "code",
   "execution_count": 8,
   "metadata": {},
   "outputs": [
    {
     "name": "stdout",
     "output_type": "stream",
     "text": [
      "[['Cab/Chassis 2WD', 1993, 4.113376218494302], ['Cab/Chassis 2WD', 1992, 4.113376218494302], ['Cab/Chassis 2WD', 1991, 4.113376218494302], ['Cab/Chassis 2WD', 1990, 4.113376218494302], ['Cab/Chassis 2WD', 1989, 4.113376218494302], ['Cab/Chassis 2WD', 1993, 3.380032477246414], ['Cab/Chassis 2WD', 1992, 3.380032477246414], ['Cab/Chassis 2WD', 1991, 3.380032477246414], ['Cab/Chassis 2WD', 1990, 3.380032477246414]]\n"
     ]
    }
   ],
   "source": [
    "########## Q4\n",
    "def get_extreme_toyota_cars(df, n=9):\n",
    "    # Filter the DataFrame to select rows where 'Make' is 'Toyota'\n",
    "    df_toyotas = df[df['Make'] == 'Toyota']\n",
    "    \n",
    "    # Calculate the Z-score for 'Fuel Barrels/Year' within Toyota cars using loc\n",
    "    df_toyotas.loc[:, 'Z-score'] = (df_toyotas['Fuel Barrels/Year'] - df_toyotas['Fuel Barrels/Year'].mean()) / df_toyotas['Fuel Barrels/Year'].std(ddof=0)\n",
    "\n",
    "    # Sort the DataFrame by the absolute value of 'Fuel Barrels/Year' and year in descending order\n",
    "    df_toyotas_sorted = df_toyotas.loc[df_toyotas['Fuel Barrels/Year'].abs().nlargest(n).index]\n",
    "\n",
    "    # Sort by Z-score in descending order while preserving the original order if Z-scores are the same\n",
    "    df_toyotas_sorted = df_toyotas_sorted.sort_values(by=['Z-score', 'Year'], ascending=[False, False])\n",
    "\n",
    "    # Display the first n rows (without modifying the negative values)\n",
    "    result = df_toyotas_sorted[['Model', 'Year', 'Z-score']]\n",
    "    \n",
    "    return result\n",
    "\n",
    "# Call the function and print the result for the top 9 Toyota cars with extreme Fuel Barrels/Year\n",
    "result = get_extreme_toyota_cars(df)\n",
    "answer_dict[\"Q4\"] = result.values.tolist()\n",
    "print(answer_dict[\"Q4\"])"
   ]
  },
  {
   "cell_type": "markdown",
   "metadata": {
    "id": "7eCpEljJnXzt"
   },
   "source": [
    "##Q5. Calculate the changes in Combined MPG with their previous model of all Golf cars with Manual 5-spd transmission and Regular Fuel Type. Show the Year, the Combined MPG and the calculated difference of MPG in a list sorted by Year in ascending order.\n",
    "\n",
    "##### Format: A 19X3 list, with the Year and Combined MPG being of type integer **and only the calculated difference is of type float**\n",
    "##### **Note: The value for the first model should be 0.** It does not matter that there are gaps in the years, calculate with respect the previous model.\n",
    "\n",
    "#####Example answer:\n",
    "\n",
    "\n",
    "\n",
    "```\n",
    "[[1986, 25, 0.0],\n",
    " [1987, 25, 0.0],\n",
    " [1988, 25, 0.0],\n",
    " [1989, 25, 0.0],\n",
    " [1990, 23, -2.0],\n",
    " [1991, 23, 0.0],\n",
    " [1992, 24, 1.0],\n",
    " [1993, 25, 1.0],\n",
    " [1994, 25, 0.0],\n",
    " [1995, 25, 0.0],\n",
    " [1996, 25, 0.0],\n",
    " [1997, 25, 0.0],\n",
    " [1998, 24, -1.0],\n",
    " [1999, 25, 1.0],\n",
    " [2000, 24, -1.0],\n",
    " [2001, 24, 0.0],\n",
    " [2002, 24, 0.0],\n",
    " [2004, 24, 0.0],\n",
    " [2006, 24, 0.0]]\n",
    "```\n",
    "\n",
    "\n",
    "\n"
   ]
  },
  {
   "cell_type": "code",
   "execution_count": 9,
   "metadata": {},
   "outputs": [
    {
     "name": "stdout",
     "output_type": "stream",
     "text": [
      "[[1986, 26, 0.0], [1987, 26, 0.0], [1988, 25, -1.0], [1989, 25, 0.0], [1999, 24, -1.0], [2000, 24, 0.0], [2001, 24, 0.0], [2002, 24, 0.0], [2003, 24, 0.0], [2004, 24, 0.0], [2005, 24, 0.0], [2006, 24, 0.0], [2010, 25, 1.0], [2011, 26, 1.0], [2012, 26, 0.0], [2013, 26, 0.0], [2015, 30, 4.0], [2016, 30, 0.0], [2017, 29, -1.0]]\n"
     ]
    }
   ],
   "source": [
    "########## Q5\n",
    "def calculate_combined_mpg_changes(df):\n",
    "    # Filter the DataFrame to select rows with the specified conditions\n",
    "    df_filtered = df[(df['Make'] == 'Volkswagen') & \n",
    "                     (df['Model'] == 'Golf') & \n",
    "                     (df['Fuel Type'] == 'Regular') & \n",
    "                     (df['Transmission'] == 'Manual 5-spd')]\n",
    "    \n",
    "    # Sort the DataFrame by 'Year' in ascending order\n",
    "    df_sorted = df_filtered.sort_values(by='Year', ascending=True)\n",
    "    \n",
    "    # Calculate the difference in Combined MPG with the previous model\n",
    "    df_sorted['MPG Change'] = df_sorted['Combined MPG'].diff()\n",
    "    \n",
    "    # Fill the gaps in years and calculate the difference with respect to the previous model\n",
    "    df_sorted['MPG Change'] = df_sorted.groupby('Model')['MPG Change'].transform(lambda x: x.fillna(x.iloc[0]))\n",
    "    df_sorted['MPG Change'].fillna(0, inplace=True)  # Assign the result of fillna back to the DataFrame\n",
    "    \n",
    "    # Create the final list with the required data types\n",
    "    result = df_sorted[['Year', 'Combined MPG', 'MPG Change']].astype({'Year': int, 'Combined MPG': int, 'MPG Change': float}).values.tolist()\n",
    "\n",
    "    return result\n",
    "\n",
    "# Call the function and print the result\n",
    "answer_dict[\"Q5\"] = calculate_combined_mpg_changes(df)\n",
    "\n",
    "for item in answer_dict[\"Q5\"]:\n",
    "    item[0] = int(item[0])\n",
    "    item[1] = int(item[1])\n",
    "    \n",
    "print(answer_dict[\"Q5\"])"
   ]
  },
  {
   "cell_type": "markdown",
   "metadata": {
    "id": "EnHdqUs-nagE"
   },
   "source": [
    "##Q6. What are the top 5 lowest CO2 Emission Grams/Mile emmisions of cars for each of the following brands: Toyota, Ford, Volkswagen, Nissan, Honda\n",
    "\n",
    "#####Format: A 5X6 list with the first element of each row being the Make of the cars and the following five values being floats sorted in ascending order. The Makes should appear in order listed in the question starting with Toyota and ending with Honda (see example).\n",
    "\n",
    "#####Example answer:\n",
    "\n",
    "```\n",
    "[['Toyota', 100.0, 140.0, 140.0, 150.0, 150.0],\n",
    " ['Ford',\n",
    "  100.025641025641,\n",
    "  200.677633075759575,\n",
    "  200.677633075759575,\n",
    "  200.677633075759575,\n",
    "  200.677633075759575],\n",
    " ['Volkswagen', 139.0, 154.0, 166.5, 166.5, 166.5],\n",
    " ['Nissan', 122.0, 122.0, 122.0, 122.0, 160.0],\n",
    " ['Honda', 100.0, 100.0, 100.0, 100.0, 123.91684618442447]]\n",
    "```\n",
    "\n",
    "\n",
    "\n",
    "\n"
   ]
  },
  {
   "cell_type": "code",
   "execution_count": 10,
   "metadata": {},
   "outputs": [
    {
     "name": "stdout",
     "output_type": "stream",
     "text": [
      "[['Toyota', 133.0, 133.0, 133.0, 133.0, 158.0], ['Ford', 112.0, 129.0, 129.0, 129.0, 129.0], ['Volkswagen', 200.0, 200.0, 200.0, 200.0, 261.025641025641], ['Nissan', 249.0, 254.0, 254.5, 254.5, 254.5], ['Honda', 130.0, 167.67924528301887, 167.67924528301887, 167.67924528301887, 167.67924528301887]]\n"
     ]
    }
   ],
   "source": [
    "########## Q6\n",
    "def top_5_lowest_emissions(df):\n",
    "    # Filter the DataFrame for the specified car brands\n",
    "    selected_brands = ['Toyota', 'Ford', 'Volkswagen', 'Nissan', 'Honda']\n",
    "    filtered_df = df[df['Make'].isin(selected_brands)]\n",
    "    \n",
    "    # Group the filtered data by 'Make'\n",
    "    grouped = filtered_df.groupby('Make')\n",
    "    \n",
    "    # Initialize an empty list to store the results\n",
    "    results = []\n",
    "    \n",
    "    # Iterate over each brand in the selected_brands list\n",
    "    for brand in selected_brands:\n",
    "        if brand in grouped.groups:\n",
    "            # Get the group corresponding to the current brand\n",
    "            group = grouped.get_group(brand)\n",
    "            \n",
    "            # Get the top 5 lowest emissions for the current brand\n",
    "            top_5 = group.nsmallest(5, 'CO2 Emission Grams/Mile')['CO2 Emission Grams/Mile'].tolist()\n",
    "            results.append([brand] + sorted(top_5))\n",
    "        else:\n",
    "            # If the brand is not in the DataFrame, add an empty list for that brand\n",
    "            results.append([brand])\n",
    "    \n",
    "    return results\n",
    "\n",
    "# Call the function and print the result\n",
    "answer_dict[\"Q6\"] = top_5_lowest_emissions(df)\n",
    "print(answer_dict[\"Q6\"])"
   ]
  },
  {
   "cell_type": "markdown",
   "metadata": {
    "id": "gDNo1Fcesgk5"
   },
   "source": [
    "##Q7. Form 7 groups of 5 years to calculated the median Combined MPG of each group. The first group is from 1984 to 1988, the second from 1989 to 1993 and so on. The last group will have years not appearing in the dataset.\n",
    "\n",
    "#####Note: The groups ranges are inclusive on both sides, the first group starts with 1984 and cars from 1984 are included in it.\n",
    "#####Format : A 7X2 list with the first element of each row being a tuple of two integers being the lower and uppper range of the year groups and the esecond element being the median Combined MPG of that group, a float number.\n",
    "\n",
    "#####Example answer:\n",
    "\n",
    "\n",
    "```\n",
    "[[(1984, 1988), 11.0],\n",
    " [(1989, 1993), 10.0],\n",
    " [(1994, 1998), 10.0],\n",
    " [(1999, 2003), 14.0],\n",
    " [(2004, 2008), 13.0],\n",
    " [(2009, 2013), 14.0],\n",
    " [(2014, 2018), 15.0]]\n",
    "```\n",
    "\n"
   ]
  },
  {
   "cell_type": "code",
   "execution_count": 11,
   "metadata": {},
   "outputs": [
    {
     "name": "stdout",
     "output_type": "stream",
     "text": [
      "[((1984, 1988), 19.0), ((1989, 1993), 18.0), ((1994, 1998), 19.0), ((1999, 2003), 19.0), ((2004, 2008), 19.0), ((2009, 2013), 21.0), ((2014, 2018), 22.0)]\n"
     ]
    }
   ],
   "source": [
    "########## Q7\n",
    "\n",
    "def calculate_median_combined_mpg(df):\n",
    "    # Define the bins for grouping the years\n",
    "    bins = [1984, 1989, 1994, 1999, 2004, 2009, 2014, 2019]\n",
    "    \n",
    "    # Create a new column 'Year Group' based on the bins\n",
    "    df['Year Group'] = pd.cut(df['Year'], bins, right=False)\n",
    "    \n",
    "    # Group the data by 'Year Group' and calculate the median Combined MPG for each group\n",
    "    grouped = df.groupby('Year Group')['Combined MPG'].median().reset_index()\n",
    "    \n",
    "    # Extract the left and right endpoints of the interval and create a tuple for each group\n",
    "    result = [((group.left, group.left + 4), median) for group, median in zip(grouped['Year Group'], grouped['Combined MPG'])]\n",
    "    \n",
    "    return result\n",
    "\n",
    "# Call the function and print the result\n",
    "answer_dict[\"Q7\"] = calculate_median_combined_mpg(df)\n",
    "print(answer_dict[\"Q7\"])"
   ]
  },
  {
   "cell_type": "markdown",
   "metadata": {
    "id": "LiGydnlQ4cX4"
   },
   "source": [
    "##Test your answers\n",
    "\n",
    "##### We provide you some tests to make sure your answer dictionary is in the correct format using unittest.\n",
    "##### These tests are not meant to be comprehensive, you should review all your answers carefully."
   ]
  },
  {
   "cell_type": "code",
   "execution_count": 12,
   "metadata": {
    "id": "iNwVFmHZ4csn"
   },
   "outputs": [
    {
     "name": "stderr",
     "output_type": "stream",
     "text": [
      "test_Q1 (__main__.TestAnswers) ... ok\n",
      "test_Q2_dim (__main__.TestAnswers) ... ok\n",
      "test_Q2_types (__main__.TestAnswers) ... ok\n",
      "test_Q3_types (__main__.TestAnswers) ... ok\n",
      "test_Q4_dim (__main__.TestAnswers) ... ok\n",
      "test_Q4_types (__main__.TestAnswers) ... ok\n",
      "test_Q5_dim (__main__.TestAnswers) ... ok\n",
      "test_Q5_first_zero (__main__.TestAnswers) ... ok\n",
      "test_Q5_types (__main__.TestAnswers) ... ok\n",
      "test_Q6_check_first_and_last_brand (__main__.TestAnswers) ... ok\n",
      "test_Q6_dim (__main__.TestAnswers) ... ok\n",
      "test_Q7_dim (__main__.TestAnswers) ... ok\n",
      "test_Q7_types (__main__.TestAnswers) ... ok\n",
      "test_answers_types (__main__.TestAnswers) ... ok\n",
      "test_if_dict (__main__.TestAnswers) ... ok\n",
      "test_keys (__main__.TestAnswers) ... ok\n",
      "\n",
      "----------------------------------------------------------------------\n",
      "Ran 16 tests in 0.057s\n",
      "\n",
      "OK\n"
     ]
    },
    {
     "data": {
      "text/plain": [
       "<unittest.main.TestProgram at 0x28d03e0c040>"
      ]
     },
     "execution_count": 12,
     "metadata": {},
     "output_type": "execute_result"
    }
   ],
   "source": [
    "import unittest\n",
    "\n",
    "class TestAnswers(unittest.TestCase):\n",
    "    def test_if_dict(self):\n",
    "        self.assertIsInstance(answer_dict, dict)\n",
    "\n",
    "    def test_keys(self):\n",
    "        self.assertEqual(list(answer_dict.keys()), ['Q1', 'Q2', 'Q3', 'Q4', 'Q5', 'Q6', 'Q7'])\n",
    "\n",
    "    def test_answers_types(self):\n",
    "        types_values = [type(k) for k in answer_dict.values()]\n",
    "        answer_types = [float, list, list, list, list, list, list]\n",
    "        self.assertEqual(types_values, answer_types)\n",
    "\n",
    "    def test_Q1(self):\n",
    "        self.assertEqual(type(answer_dict['Q1']), float)\n",
    "\n",
    "    def test_Q2_dim(self):\n",
    "        self.assertEqual(np.array(answer_dict['Q2']).shape, (5,2))\n",
    "\n",
    "    def test_Q2_types(self):\n",
    "        dtype1 = type(answer_dict['Q2'][0][0])\n",
    "        dtype2 = type(answer_dict['Q2'][0][1])\n",
    "        self.assertEqual([dtype1, dtype2], [str, int])\n",
    "\n",
    "    def test_Q3_types(self):\n",
    "        q3_types = set([type(item) for item in answer_dict['Q3']])\n",
    "        self.assertEqual(q3_types, {str})\n",
    "\n",
    "    def test_Q4_dim(self):\n",
    "        self.assertEqual(np.array(answer_dict['Q4']).shape, (9,3))\n",
    "\n",
    "    def test_Q4_types(self):\n",
    "        dtype1 = type(answer_dict['Q4'][0][0])\n",
    "        dtype2 = type(answer_dict['Q4'][0][1])\n",
    "        dtype3 = type(answer_dict['Q4'][0][2])\n",
    "        self.assertEqual([dtype1, dtype2, dtype3], [str, int, float])\n",
    "\n",
    "    def test_Q5_dim(self):\n",
    "        self.assertEqual(np.array(answer_dict['Q5']).shape, (19,3))\n",
    "\n",
    "    def test_Q5_types(self):\n",
    "        dtype1 = type(answer_dict['Q5'][0][0])\n",
    "        dtype2 = type(answer_dict['Q5'][0][1])\n",
    "        dtype3 = type(answer_dict['Q5'][0][2])\n",
    "        self.assertEqual([dtype1, dtype2, dtype3], [int, int, float])\n",
    "\n",
    "    def test_Q5_first_zero(self):\n",
    "        self.assertEqual(answer_dict['Q5'][0][2], 0)\n",
    "\n",
    "\n",
    "    def test_Q6_dim(self):\n",
    "        self.assertEqual(np.array(answer_dict['Q6']).shape, (5,6))\n",
    "\n",
    "    def test_Q5_types(self):\n",
    "        dtype1 = type(answer_dict['Q6'][0][0])\n",
    "        dtype2 = type(answer_dict['Q6'][0][1])\n",
    "        dtype3 = type(answer_dict['Q6'][0][2])\n",
    "        dtype4 = type(answer_dict['Q6'][0][3])\n",
    "        dtype5 = type(answer_dict['Q6'][0][4])\n",
    "        dtype6 = type(answer_dict['Q6'][0][5])\n",
    "        self.assertEqual([dtype1, dtype2, dtype3, dtype4, dtype5, dtype6], [str, float, float, float, float, float])\n",
    "\n",
    "    def test_Q6_check_first_and_last_brand(self):\n",
    "        first_brand = answer_dict['Q6'][0][0]\n",
    "        last_brand = answer_dict['Q6'][4][0]\n",
    "\n",
    "        self.assertEqual([first_brand, last_brand], [\"Toyota\", \"Honda\"])\n",
    "\n",
    "    def test_Q7_dim(self):\n",
    "        self.assertEqual(np.array(answer_dict['Q7'], dtype=object).shape, (7,2))\n",
    "\n",
    "    def test_Q7_types(self):\n",
    "        dtype1 = type(answer_dict['Q7'][0][0])\n",
    "        dtype2 = type(answer_dict['Q7'][0][1])\n",
    "        self.assertEqual([dtype1, dtype2], [tuple, float])\n",
    "\n",
    "unittest.main(argv=[''], verbosity=2, exit=False)"
   ]
  },
  {
   "cell_type": "markdown",
   "metadata": {
    "id": "O_Wx_D0kGjmc"
   },
   "source": [
    "##Save your answers\n",
    "\n",
    "\n",
    "##### First, take a moment to evaluate your answers and make sure you have not missed anything\n",
    "\n",
    "##### Use the following code to save your answers in pickle format, change the filename using the following format:\n",
    "##### FIRSTNAME_LASTNAME_answers.pkl\n",
    "##### Example: Juan_Perez_answers.pkl\n",
    "\n",
    "##### If you are using google colab you can find your file on the left side bar by clicking the folder icon inside the sample_data folder. Remember to upload the pickle file and the notebook to github and submit their URLs to the [google form](https://forms.gle/wWysZEMkoZsjB11Y7)."
   ]
  },
  {
   "cell_type": "code",
   "execution_count": 13,
   "metadata": {
    "id": "nCzU1sKMknfH"
   },
   "outputs": [
    {
     "data": {
      "text/plain": [
       "{'Q1': 392.742,\n",
       " 'Q2': [['Mercedes-Benz', 333],\n",
       "  ['BMW', 284],\n",
       "  ['Chevrolet', 253],\n",
       "  ['Ford', 185],\n",
       "  ['GMC', 163]],\n",
       " 'Q3': ['CNG',\n",
       "  'Diesel',\n",
       "  'Gasoline or E85',\n",
       "  'Gasoline or natural gas',\n",
       "  'Gasoline or propane',\n",
       "  'Midgrade',\n",
       "  'Premium',\n",
       "  'Premium Gas or Electricity',\n",
       "  'Premium and Electricity',\n",
       "  'Premium or E85',\n",
       "  'Regular',\n",
       "  'Regular Gas and Electricity',\n",
       "  'Regular Gas or Electricity'],\n",
       " 'Q4': [['Cab/Chassis 2WD', 1993, 4.113376218494302],\n",
       "  ['Cab/Chassis 2WD', 1992, 4.113376218494302],\n",
       "  ['Cab/Chassis 2WD', 1991, 4.113376218494302],\n",
       "  ['Cab/Chassis 2WD', 1990, 4.113376218494302],\n",
       "  ['Cab/Chassis 2WD', 1989, 4.113376218494302],\n",
       "  ['Cab/Chassis 2WD', 1993, 3.380032477246414],\n",
       "  ['Cab/Chassis 2WD', 1992, 3.380032477246414],\n",
       "  ['Cab/Chassis 2WD', 1991, 3.380032477246414],\n",
       "  ['Cab/Chassis 2WD', 1990, 3.380032477246414]],\n",
       " 'Q5': [[1986, 26, 0.0],\n",
       "  [1987, 26, 0.0],\n",
       "  [1988, 25, -1.0],\n",
       "  [1989, 25, 0.0],\n",
       "  [1999, 24, -1.0],\n",
       "  [2000, 24, 0.0],\n",
       "  [2001, 24, 0.0],\n",
       "  [2002, 24, 0.0],\n",
       "  [2003, 24, 0.0],\n",
       "  [2004, 24, 0.0],\n",
       "  [2005, 24, 0.0],\n",
       "  [2006, 24, 0.0],\n",
       "  [2010, 25, 1.0],\n",
       "  [2011, 26, 1.0],\n",
       "  [2012, 26, 0.0],\n",
       "  [2013, 26, 0.0],\n",
       "  [2015, 30, 4.0],\n",
       "  [2016, 30, 0.0],\n",
       "  [2017, 29, -1.0]],\n",
       " 'Q6': [['Toyota', 133.0, 133.0, 133.0, 133.0, 158.0],\n",
       "  ['Ford', 112.0, 129.0, 129.0, 129.0, 129.0],\n",
       "  ['Volkswagen', 200.0, 200.0, 200.0, 200.0, 261.025641025641],\n",
       "  ['Nissan', 249.0, 254.0, 254.5, 254.5, 254.5],\n",
       "  ['Honda',\n",
       "   130.0,\n",
       "   167.67924528301887,\n",
       "   167.67924528301887,\n",
       "   167.67924528301887,\n",
       "   167.67924528301887]],\n",
       " 'Q7': [((1984, 1988), 19.0),\n",
       "  ((1989, 1993), 18.0),\n",
       "  ((1994, 1998), 19.0),\n",
       "  ((1999, 2003), 19.0),\n",
       "  ((2004, 2008), 19.0),\n",
       "  ((2009, 2013), 21.0),\n",
       "  ((2014, 2018), 22.0)]}"
      ]
     },
     "execution_count": 13,
     "metadata": {},
     "output_type": "execute_result"
    }
   ],
   "source": [
    "answer_dict"
   ]
  },
  {
   "cell_type": "code",
   "execution_count": 15,
   "metadata": {
    "id": "dEZ-vo0QGTeu"
   },
   "outputs": [],
   "source": [
    "import pickle\n",
    "\n",
    "file_name = \"Pius_Kitheru_answers.pkl\"\n",
    "path = \"C:\\\\Users\\\\Wizeline_Code_Challenge\"\n",
    "\n",
    "with open(path+file_name, 'wb') as f:\n",
    "    pickle.dump(answer_dict, f, protocol=pickle.HIGHEST_PROTOCOL)"
   ]
  }
 ],
 "metadata": {
  "colab": {
   "provenance": []
  },
  "kernelspec": {
   "display_name": "Python 3 (ipykernel)",
   "language": "python",
   "name": "python3"
  },
  "language_info": {
   "codemirror_mode": {
    "name": "ipython",
    "version": 3
   },
   "file_extension": ".py",
   "mimetype": "text/x-python",
   "name": "python",
   "nbconvert_exporter": "python",
   "pygments_lexer": "ipython3",
   "version": "3.10.9"
  }
 },
 "nbformat": 4,
 "nbformat_minor": 1
}
